{
 "cells": [
  {
   "cell_type": "markdown",
   "id": "98f30a10-f9c1-41b0-b679-359bd0f9f48e",
   "metadata": {},
   "source": [
    "We are currently working in the following directory:"
   ]
  },
  {
   "cell_type": "code",
   "execution_count": 2,
   "id": "f7458a51-22e1-4a34-8746-5830b0158727",
   "metadata": {},
   "outputs": [
    {
     "name": "stdout",
     "output_type": "stream",
     "text": [
      "/c/Users/corri/student-a7/jupyterlab_practice/reports\n"
     ]
    }
   ],
   "source": [
    "!pwd"
   ]
  },
  {
   "cell_type": "markdown",
   "id": "8a7d9166-a86e-4dbd-9046-7818581b24fd",
   "metadata": {},
   "source": [
    "To time how long it takes to run a python shell command, we could use the timeit command inside a shell as is seen below:\n",
    "\n",
    "```python\n",
    "\n",
    "%%timeit\n",
    "for i in range(1_000_000):\n",
    "    i**2\n",
    "```"
   ]
  },
  {
   "cell_type": "code",
   "execution_count": 6,
   "id": "e2dc2a8b-01df-4f46-be94-ab3beba4dde4",
   "metadata": {},
   "outputs": [
    {
     "name": "stderr",
     "output_type": "stream",
     "text": [
      "[NbConvertApp] Converting notebook question12.ipynb to html\n",
      "[NbConvertApp] Writing 271448 bytes to question12.html\n"
     ]
    }
   ],
   "source": [
    "!jupyter nbconvert  question12.ipynb --to html --output=question12.html --no-input"
   ]
  },
  {
   "cell_type": "code",
   "execution_count": null,
   "id": "65f78738-d930-4e4b-9e6e-4d6993cd9a7f",
   "metadata": {},
   "outputs": [],
   "source": []
  }
 ],
 "metadata": {
  "kernelspec": {
   "display_name": "Python [conda env:jpyt_prac]",
   "language": "python",
   "name": "conda-env-jpyt_prac-py"
  },
  "language_info": {
   "codemirror_mode": {
    "name": "ipython",
    "version": 3
   },
   "file_extension": ".py",
   "mimetype": "text/x-python",
   "name": "python",
   "nbconvert_exporter": "python",
   "pygments_lexer": "ipython3",
   "version": "3.12.4"
  }
 },
 "nbformat": 4,
 "nbformat_minor": 5
}
