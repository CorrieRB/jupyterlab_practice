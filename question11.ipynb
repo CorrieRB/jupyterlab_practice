{
 "cells": [
  {
   "cell_type": "markdown",
   "id": "fdbf9969-8548-4210-8c24-f3b48b5bc919",
   "metadata": {},
   "source": [
    "# Corrie Belanger\n",
    "Notebook for assignment 7"
   ]
  },
  {
   "cell_type": "code",
   "execution_count": null,
   "id": "663b847d-ab43-4e97-8395-d52c6fe2329b",
   "metadata": {},
   "outputs": [],
   "source": [
    "def compute_mean(list):\n",
    "    x = sum(list)/len(list)\n",
    "    return x\n",
    "compute_mean([2, 4, 6, 8])"
   ]
  },
  {
   "cell_type": "markdown",
   "id": "57fcd589-05ad-4fda-b26b-d789992409bc",
   "metadata": {},
   "source": [
    "The code above calculates the mean of the numbers in a given list. Mean is calculated as below:\n",
    "\n",
    "$ \\bar{x} = \\frac{x_1 + x_2 + ... + x_n}{n} = \\frac{1}{n} \\Bigg( \\sum\\limits_{i=1}^{n}x_{i} \\Bigg)$"
   ]
  },
  {
   "cell_type": "code",
   "execution_count": null,
   "id": "b2ed699c-c9b8-4704-bc14-2e9cf2dc387e",
   "metadata": {},
   "outputs": [],
   "source": []
  }
 ],
 "metadata": {
  "kernelspec": {
   "display_name": "Python [conda env:jpyt_prac]",
   "language": "python",
   "name": "conda-env-jpyt_prac-py"
  },
  "language_info": {
   "codemirror_mode": {
    "name": "ipython",
    "version": 3
   },
   "file_extension": ".py",
   "mimetype": "text/x-python",
   "name": "python",
   "nbconvert_exporter": "python",
   "pygments_lexer": "ipython3",
   "version": "3.12.4"
  }
 },
 "nbformat": 4,
 "nbformat_minor": 5
}
